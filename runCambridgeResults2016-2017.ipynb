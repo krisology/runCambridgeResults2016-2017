{
 "cells": [
  {
   "cell_type": "code",
   "execution_count": 18,
   "metadata": {},
   "outputs": [
    {
     "data": {
      "text/plain": [
       "'0.20.3'"
      ]
     },
     "execution_count": 18,
     "metadata": {},
     "output_type": "execute_result"
    }
   ],
   "source": [
    "import warnings\n",
    "warnings.simplefilter('ignore', FutureWarning)\n",
    "\n",
    "from pandas import *\n",
    "# set display.max_rows to show all rows in the output\n",
    "pandas.set_option('display.max_rows', None)\n",
    "\n",
    "pandas.__version__"
   ]
  },
  {
   "cell_type": "markdown",
   "metadata": {},
   "source": [
    "# Analysis of runCambridge 2016-2017 results to find club runner candidates"
   ]
  },
  {
   "cell_type": "markdown",
   "metadata": {},
   "source": [
    "I asked Andy Irvine and he provided a dump of all the results from Oct 2016 - Sept 2017.\n",
    "\n",
    "First load all the results downloaded from runCambridge into the analysis. I haven't done any data cleanup as it all looks pretty good."
   ]
  },
  {
   "cell_type": "code",
   "execution_count": 19,
   "metadata": {},
   "outputs": [
    {
     "data": {
      "text/plain": [
       "Index(['race id', 'race type', 'start date', 'finish date', 'name',\n",
       "       'subevent num', 'subevent name', 'distance', 'distance units',\n",
       "       'accurate', 'venue', 'url', 'runner id', 'runner name', 'gun time',\n",
       "       'position', 'chip time', 'm/f position', 'status', 'pb', 'category',\n",
       "       'category position'],\n",
       "      dtype='object')"
      ]
     },
     "execution_count": 19,
     "metadata": {},
     "output_type": "execute_result"
    }
   ],
   "source": [
    "# Read in the Excel file to a dataframe called allResults\n",
    "allResults = read_excel('runCambridgeResults2016-2017.xlsx')\n",
    "# Show what columns are available in the data set.\n",
    "allResults.columns"
   ]
  },
  {
   "cell_type": "markdown",
   "metadata": {},
   "source": [
    "Show the distinct race names and the number of results per race. Unsurprisingly Cambridge and Wimpole parkruns have the most results."
   ]
  },
  {
   "cell_type": "code",
   "execution_count": 20,
   "metadata": {},
   "outputs": [
    {
     "data": {
      "text/plain": [
       "Cambridge parkrun                                       1653\n",
       "Wimpole Estate parkrun                                   793\n",
       "Cambridge Half Marathon                                  132\n",
       "Kevin Henry 5k Series 2017 Race 5, C&C                    88\n",
       "Huntingdon parkrun                                        87\n",
       "Cambridgeshire Cross-Country Championships                83\n",
       "C&C Boxing Day Run                                        78\n",
       "Kevin Henry 5k Series 2017 Race 1, CTC                    66\n",
       "SEAA Cross-Country Championships                          61\n",
       "Kevin Henry 5k Series 2017 Race 2, Ely Runners            54\n",
       "Brandon parkrun                                           47\n",
       "Kevin Henry 5k Series 2017 Race 3, Newmarket Joggers      45\n",
       "Kevin Henry 5k Series 2017 Race 4, Saffron Striders       40\n",
       "Wimpole Belts 10k                                         39\n",
       "Wings for Life World Run                                  38\n",
       "St Neots Half Marathon                                    36\n",
       "Kevin Henry 5k Series 2017 Race 5, Haverhill RC           35\n",
       "Cambridge Town and Gown 10K                               35\n",
       "Endure 24                                                 35\n",
       "Round Norfolk Relay                                       34\n",
       "Ely New Year's Eve 10k                                    34\n",
       "Girton 5K                                                 33\n",
       "Virgin Money London Marathon                              28\n",
       "Cambridge Cambourne 10K                                   26\n",
       "Hoohaah Wimpole Estate 10k                                26\n",
       "Bury St Edmunds parkrun                                   26\n",
       "Perkins Great Eastern Run                                 24\n",
       "Hereward Relay                                            24\n",
       "Fetch Mile                                                24\n",
       "Essex XC League - C&C                                     23\n",
       "Greater Cambridge 10K                                     22\n",
       "Frostbite League - Hunts AC                               21\n",
       "Hoohaah Thetford Forest 10k                               21\n",
       "Abington 10k                                              18\n",
       "Frostbite League - Riverside Runners                      17\n",
       "Frostbite League - Bourne                                 17\n",
       "St Ives 10K                                               16\n",
       "Stamford St Valentines 30k                                16\n",
       "Fen Drayton 10K                                           16\n",
       "Frostbite League - BRJ                                    16\n",
       "Shelford Fun Run                                          16\n",
       "Flaming June Half and Quarter Marathon                    15\n",
       "Peterborough parkrun                                      15\n",
       "Hoohaah Hatfield Forest 10k                               15\n",
       "Tour of the Derwent Valley                                15\n",
       "Vitality London 10,000                                    15\n",
       "Frostbite League - Bushfield                              14\n",
       "English National Cross-Country Championships              14\n",
       "Hoohaah Childerley Estate 10k                             14\n",
       "Cajasiete Gran Canaria Marat¾n                            13\n",
       "Bonfire Burn 10k                                          13\n",
       "Dovedale Dash                                             13\n",
       "Frostbite League - March AC                               12\n",
       "Folksworth 15                                             12\n",
       "Gransden Muddy Fun Run                                    11\n",
       "Kimbolton Castle Half Marathon                            11\n",
       "Bourn to Run 10k                                          11\n",
       "Fen Gallop 10K                                            10\n",
       "Marcus Gynn Newmarket 10K                                 10\n",
       "March parkrun                                             10\n",
       "Greater Manchester Marathon                               10\n",
       "C&C Billy Bland Challenge 2017                            10\n",
       "Swavesey Half Marathon and Five Miler                     10\n",
       "Hoohaah Wimpole Half Marathon and 10 Mile                 10\n",
       "Ipswich Building Society Twilight 10k & 5k                10\n",
       "Lakeland 100/50                                            9\n",
       "Peterborough 5K Grand Prix Series - NVH                    8\n",
       "Riverside Runners Anniversary 10K                          8\n",
       "Bedford parkrun                                            8\n",
       "Thetford parkrun                                           7\n",
       "Harvest Trail                                              7\n",
       "Newmarket Heath Race                                       7\n",
       "Matterhorn Ultraks                                         7\n",
       "Hatfield Forest parkrun                                    7\n",
       "Ryston Grand Prix                                          7\n",
       "Littleport 10K                                             7\n",
       "British Masters Open Cross-Country Championships           6\n",
       "Bedford Harriers Half Marathon                             6\n",
       "Wolverton 5                                                6\n",
       "Beds AAA 10k                                               6\n",
       "Mainova Frankfurt Marathon                                 6\n",
       "GEAR 10K                                                   6\n",
       "Run Bedford 10k                                            6\n",
       "Kettering parkrun                                          6\n",
       "Breckland 10k                                              5\n",
       "Nice Work Richmond Park 10k                                5\n",
       "Sandy 10                                                   5\n",
       "Beachy Head Marathon                                       5\n",
       "Wimpole Estate Night Run                                   5\n",
       "Bedford Half Marathon                                      5\n",
       "Cambridge Boundary Run                                     5\n",
       "Westmill parkrun                                           5\n",
       "Keswick parkrun                                            5\n",
       "Nice Work Bushy Park 10k                                   5\n",
       "Buntingford 10                                             5\n",
       "Rutland Water parkrun                                      5\n",
       "Markeaton parkrun                                          5\n",
       "Fenland 10                                                 5\n",
       "Hatfield Broad Oak 10K                                     5\n",
       "Lowestoft parkrun                                          4\n",
       "Marathon de la Liberte                                     4\n",
       "Waterside 10k                                              4\n",
       "Penrith Parkrun                                            4\n",
       "Oakley 20                                                  4\n",
       "The Barney Memorial 5K                                     4\n",
       "Blickling parkrun                                          4\n",
       "Brandon Country Park parkrun                               4\n",
       "Peterborough 5K Grand Prix Series - Werrington             4\n",
       "Great Scottish Run                                         4\n",
       "Stevenage parkrun                                          4\n",
       "Cranleigh parkrun                                          4\n",
       "BRJ Mayor of Huntingdon Charity Race                       4\n",
       "Wymondham New Year's Day 10K                               4\n",
       "Stort 5 & 10                                               3\n",
       "Peterborough 5K Grand Prix Series - Eye                    3\n",
       "RAF Honington 10k                                          3\n",
       "Maribyrnong parkrun                                        3\n",
       "BMW Berlin Marathon                                        3\n",
       "Pisa Half Marathon                                         3\n",
       "Simplyhealth Great East Run                                3\n",
       "Gunpowder parkrun                                          3\n",
       "Edinburgh Marathon                                         3\n",
       "Swineshead 5M & 10M                                        3\n",
       "Altona Beach parkrun                                       3\n",
       "Peterborough 5K Grand Prix Series - Stamford               3\n",
       "Haverhill Running Festival                                 3\n",
       "Greenwich Park 10k                                         3\n",
       "Luton Wardown parkrun                                      3\n",
       "Sheringham parkrun                                         3\n",
       "London Easter 10k                                          3\n",
       "London 10 mile                                             3\n",
       "Ellenbrook Fields parkrun                                  3\n",
       "Barclay parkrun                                            3\n",
       "Clare Castle parkrun                                       3\n",
       "Ouse Valley Way Marathon                                   3\n",
       "Stort 30                                                   2\n",
       "Wymondham 20                                               2\n",
       "Stody Cross Country                                        2\n",
       "Roman Road Race                                            2\n",
       "Victoria Park Easter Run                                   2\n",
       "Serpentine Last Friday of the Month 5k                     2\n",
       "Sutton Beast 10K                                           2\n",
       "Market Harborough parkrun                                  2\n",
       "Jolly Jaguars 10k                                          2\n",
       "Harbour Club Serpentine Last Friday of the Month 5k        2\n",
       "Leeds Abbey Dash 10k                                       2\n",
       "Cassiobury parkrun                                         2\n",
       "Holkham parkrun                                            2\n",
       "Grimsthorpe 10                                             2\n",
       "Gorleston Cliffs parkrun                                   2\n",
       "Mersea Island 5M & 10M                                     2\n",
       "Northampton parkrun                                        2\n",
       "Hatfield Affinity 5k Series - Race 3                       2\n",
       "Trinidad Alfonso Valencia Marathon                         2\n",
       "Harwich parkrun                                            2\n",
       "Penrose parkrun                                            2\n",
       "BMAF 10 Mile Championships and Netherhall 10               2\n",
       "Tokyo Marathon                                             2\n",
       "Rushmere parkrun                                           2\n",
       "Regent's Park Summer 10k Series                            2\n",
       "Heartwood Forest parkrun                                   2\n",
       "Great Notley parkrun                                       2\n",
       "Panshanger parkrun                                         2\n",
       "King's Lynn parkrun                                        2\n",
       "Lincoln Half Marathon                                      2\n",
       "Guildford parkrun                                          2\n",
       "Bevendean Down parkrun                                     2\n",
       "Pisa Marathon                                              2\n",
       "Bushy parkrun                                              2\n",
       "Fritton Lake parkrun                                       2\n",
       "Royal Parks Half Marathon                                  2\n",
       "Draycote Water 10k                                         2\n",
       "Sevenoaks 7                                                2\n",
       "Lode Half Marathon                                         2\n",
       "Brass Monkey Half Marathon                                 2\n",
       "Great North Run                                            2\n",
       "Lucerne Marathon                                           2\n",
       "Penrith parkrun                                            2\n",
       "Regent's Park 10k - Winter Series                          2\n",
       "Northampton Magic Mile                                     2\n",
       "Abingdon Marathon                                          2\n",
       "Thurlow 10                                                 2\n",
       "Delamere parkrun                                           2\n",
       "Boston parkrun                                             2\n",
       "Thorney 10k                                                2\n",
       "Fell Foot Parkrun                                          2\n",
       "Colchester Castle parkrun                                  2\n",
       "Grimsthorpe 10k                                            2\n",
       "Maidstone parkrun                                          2\n",
       "Harlow parkrun                                             2\n",
       "Wilmslow parkrun                                           2\n",
       "Linford Wood parkrun                                       2\n",
       "St Albans parkrun                                          2\n",
       "Catterick parkrun                                          2\n",
       "Northampton Half Marathon                                  2\n",
       "RunThrough Hyde Park 10k                                   2\n",
       "Windsor Winter Fun Run 10k                                 1\n",
       "Great Yarmouth Half Marathon                               1\n",
       "Torbay parkrun                                             1\n",
       "Mornington Chasers Regent's Park 10k                       1\n",
       "Newport Lakes Parkrun                                      1\n",
       "Hereford parkrun                                           1\n",
       "Chelmsford Marathon                                        1\n",
       "Charleville International Half Marathon                    1\n",
       "Greenwich parkrun                                          1\n",
       "St Albans Half Marathon                                    1\n",
       "Holkham Parkrun                                            1\n",
       "Hull Marathon                                              1\n",
       "Tunbridge Wells Half Marathon                              1\n",
       "Bedfont Lakes parkrun                                      1\n",
       "Eye 10K                                                    1\n",
       "EMGP Corby 5M                                              1\n",
       "Run London Victoria Park 10k                               1\n",
       "Milton Keynes Marathon and Half-Marathon                   1\n",
       "Endurancelife CTS North York Moors Ultra                   1\n",
       "Hamburg Marathon                                           1\n",
       "Ipswich Summer 5k Series #1                                1\n",
       "Burnley parkrun                                            1\n",
       "Chriselton 5k                                              1\n",
       "Paris Marathon                                             1\n",
       "Peterborough 5K Grand Prix Series - Thorney                1\n",
       "Wokingham Half Marathon                                    1\n",
       "Stratford upon Avon parkrun                                1\n",
       "Tarpley 20                                                 1\n",
       "Cheltenham parkrun                                         1\n",
       "Altona Beach Parkrun                                       1\n",
       "Sheffield Hallam parkrun                                   1\n",
       "Stowmarket Half Marathon                                   1\n",
       "Edwin May Nissan 5 Mile Road Race                          1\n",
       "Ipswich parkrun                                            1\n",
       "Rome Marathon                                              1\n",
       "Lisbon Marathon                                            1\n",
       "Margate Parkrun                                            1\n",
       "MBNA Chester Marathon                                      1\n",
       "Princes parkrun                                            1\n",
       "New Year Nine                                              1\n",
       "Walled City Marathon                                       1\n",
       "Mallusk 5 Mile Road Race                                   1\n",
       "Stowmarket Scenic 7                                        1\n",
       "Meridian Ultra (National 100km Championships)              1\n",
       "Manchester Half Marathon                                   1\n",
       "Woking parkrun                                             1\n",
       "Plusnet Yorkshire Marathon                                 1\n",
       "Lisbon Half Marathon                                       1\n",
       "Harbour Club Last Friday of the Month 5K                   1\n",
       "Doug Anderson Memorial 5k                                  1\n",
       "RAF Henlow 10                                              1\n",
       "Burnham-on-Crouch 10k                                      1\n",
       "Hackney Marshes parkrun                                    1\n",
       "East Midlands 10k                                          1\n",
       "Orlen Warsaw Marathon                                      1\n",
       "Carver Wolverhampton Marathon                              1\n",
       "Gosport Half Marathon                                      1\n",
       "Kingsway parkrun                                           1\n",
       "Name: name, dtype: int64"
      ]
     },
     "execution_count": 20,
     "metadata": {},
     "output_type": "execute_result"
    }
   ],
   "source": [
    "allResults['name'].value_counts()"
   ]
  },
  {
   "cell_type": "markdown",
   "metadata": {},
   "source": [
    "Show the total number of results in the data set."
   ]
  },
  {
   "cell_type": "code",
   "execution_count": 21,
   "metadata": {},
   "outputs": [
    {
     "data": {
      "text/plain": [
       "4743"
      ]
     },
     "execution_count": 21,
     "metadata": {},
     "output_type": "execute_result"
    }
   ],
   "source": [
    "totalNumResults = len(allResults)\n",
    "totalNumResults"
   ]
  },
  {
   "cell_type": "markdown",
   "metadata": {},
   "source": [
    "To be considered for a club runner award a runner will have run in what we might consider \"club races\". These \"club races\" only include races with the following text in the race names:\n",
    "- C&C\n",
    "- League\n",
    "- Championships\n",
    "- Cambourne\n",
    "- Relay\n",
    "\n",
    "I've created a new dataframe here called justCCraces that includes only these race results. "
   ]
  },
  {
   "cell_type": "code",
   "execution_count": 22,
   "metadata": {},
   "outputs": [],
   "source": [
    "justCCraces = allResults[allResults['name'].str.contains('C&C|Frostbite|Kevin Henry|Championships|Cambourne|Relay')]"
   ]
  },
  {
   "cell_type": "markdown",
   "metadata": {},
   "source": [
    "Show the total number of results in the new justCCraces dataframe."
   ]
  },
  {
   "cell_type": "code",
   "execution_count": 23,
   "metadata": {},
   "outputs": [
    {
     "data": {
      "text/plain": [
       "787"
      ]
     },
     "execution_count": 23,
     "metadata": {},
     "output_type": "execute_result"
    }
   ],
   "source": [
    "len(justCCraces)"
   ]
  },
  {
   "cell_type": "markdown",
   "metadata": {},
   "source": [
    "\n",
    "Tthese are all the races in my new result set."
   ]
  },
  {
   "cell_type": "code",
   "execution_count": 24,
   "metadata": {},
   "outputs": [
    {
     "data": {
      "text/plain": [
       "Kevin Henry 5k Series 2017 Race 5, C&C                  88\n",
       "Cambridgeshire Cross-Country Championships              83\n",
       "C&C Boxing Day Run                                      78\n",
       "Kevin Henry 5k Series 2017 Race 1, CTC                  66\n",
       "SEAA Cross-Country Championships                        61\n",
       "Kevin Henry 5k Series 2017 Race 2, Ely Runners          54\n",
       "Kevin Henry 5k Series 2017 Race 3, Newmarket Joggers    45\n",
       "Kevin Henry 5k Series 2017 Race 4, Saffron Striders     40\n",
       "Kevin Henry 5k Series 2017 Race 5, Haverhill RC         35\n",
       "Round Norfolk Relay                                     34\n",
       "Cambridge Cambourne 10K                                 26\n",
       "Hereward Relay                                          24\n",
       "Essex XC League - C&C                                   23\n",
       "Frostbite League - Hunts AC                             21\n",
       "Frostbite League - Riverside Runners                    17\n",
       "Frostbite League - Bourne                               17\n",
       "Frostbite League - BRJ                                  16\n",
       "Frostbite League - Bushfield                            14\n",
       "English National Cross-Country Championships            14\n",
       "Frostbite League - March AC                             12\n",
       "C&C Billy Bland Challenge 2017                          10\n",
       "British Masters Open Cross-Country Championships         6\n",
       "BMAF 10 Mile Championships and Netherhall 10             2\n",
       "Meridian Ultra (National 100km Championships)            1\n",
       "Name: name, dtype: int64"
      ]
     },
     "execution_count": 24,
     "metadata": {},
     "output_type": "execute_result"
    }
   ],
   "source": [
    "justCCraces['name'].value_counts()"
   ]
  },
  {
   "cell_type": "markdown",
   "metadata": {},
   "source": [
    "### Top 40 club runners\n",
    "Here are the top 40 runners with the most occurrences for club races. There is no sex column in the data so it's male and female combined."
   ]
  },
  {
   "cell_type": "code",
   "execution_count": 25,
   "metadata": {},
   "outputs": [
    {
     "data": {
      "text/plain": [
       "Ben Chamberlain         17\n",
       "Charlie Ritchie         14\n",
       "Mike Brentnall          11\n",
       "Glyn Smith              11\n",
       "Gerald Meah             11\n",
       "Istvan Jacso            10\n",
       "Andy Irvine             10\n",
       "Diana Braverman          9\n",
       "Claire Somerton          9\n",
       "Ian Richardson           9\n",
       "Sullivan Smith           8\n",
       "Sue Brentnall            7\n",
       "Carla Brown              7\n",
       "Ellie Swire              7\n",
       "Kerion Hunt              7\n",
       "John Ferguson            7\n",
       "Carmel McEniery          7\n",
       "Neil Costello            7\n",
       "Amy Buchanan-Hughes      6\n",
       "Sarah Williams           6\n",
       "Rosa Sampson Geroski     6\n",
       "Rob Moir                 6\n",
       "Stuart Clarke            6\n",
       "Trev Nicholl             6\n",
       "Matt Slater              6\n",
       "Fiona Hughes             6\n",
       "Rachael Leah             6\n",
       "Alex Downie              6\n",
       "Al Pritchard             5\n",
       "Alex Geoghegan           5\n",
       "Karen Richardson         5\n",
       "Andrew Unsworth          5\n",
       "Tom Vickery              5\n",
       "David Barber             5\n",
       "Simon Warburton          5\n",
       "Steve Giles              5\n",
       "Martyn Brearley          5\n",
       "Alex Eggeman             5\n",
       "Rachel Pritchard         5\n",
       "Beth Irving              5\n",
       "Name: runner name, dtype: int64"
      ]
     },
     "execution_count": 25,
     "metadata": {},
     "output_type": "execute_result"
    }
   ],
   "source": [
    "justCCraces['runner name'].value_counts().head(40)"
   ]
  },
  {
   "cell_type": "markdown",
   "metadata": {
    "collapsed": true
   },
   "source": [
    "### Comparison with the full data set\n",
    "Let's look at the top 40 in the full data set using the original dataframe."
   ]
  },
  {
   "cell_type": "code",
   "execution_count": 26,
   "metadata": {},
   "outputs": [
    {
     "data": {
      "text/plain": [
       "Ian Richardson       124\n",
       "Karen Richardson      96\n",
       "Ben Chamberlain       72\n",
       "Andy Irvine           64\n",
       "Mike Brentnall        60\n",
       "Pauline Blake         54\n",
       "Carmel McEniery       54\n",
       "Andrew Taylor         53\n",
       "Alex Downie           47\n",
       "Martyn Brearley       47\n",
       "Julie Stringer        47\n",
       "Paul Jones            47\n",
       "Andrew Unsworth       47\n",
       "Tom Lindfield         46\n",
       "Kerion Hunt           45\n",
       "Neil Tween            45\n",
       "Mike Difranco         45\n",
       "Alex Geoghegan        45\n",
       "Joseph Philip         44\n",
       "Andrew Parsons        43\n",
       "Scott White           43\n",
       "Jen Richardson        42\n",
       "Gerald Meah           41\n",
       "Margaret Phillips     41\n",
       "Richard Caton         40\n",
       "Rachael Leah          39\n",
       "Trev Nicholl          39\n",
       "Diana Braverman       39\n",
       "Karl Jones            39\n",
       "Paul Rudin            38\n",
       "Chris Hurcomb         38\n",
       "Chris Darling         38\n",
       "Andres Arcia          36\n",
       "David Barber          34\n",
       "Anette Laver          34\n",
       "Charlie Ritchie       33\n",
       "Fiona Downie          33\n",
       "Bethan Morgan         33\n",
       "Katie Tween           32\n",
       "Marysol Bell          32\n",
       "Name: runner name, dtype: int64"
      ]
     },
     "execution_count": 26,
     "metadata": {},
     "output_type": "execute_result"
    }
   ],
   "source": [
    "allResults['runner name'].value_counts().head(40)"
   ]
  },
  {
   "cell_type": "markdown",
   "metadata": {},
   "source": [
    "### Excluding Parkrun\n",
    "Out of curiosity, I'm going to exclude Parkrun. I'm searching for 'arkrun' because it's case sensitive, then negating it with the '~' operator. I've created another new dataframe here called allResultsButNotParkrun."
   ]
  },
  {
   "cell_type": "code",
   "execution_count": 27,
   "metadata": {},
   "outputs": [],
   "source": [
    "allResultsButNotParkrun = allResults[~allResults['name'].str.contains('arkrun')]"
   ]
  },
  {
   "cell_type": "markdown",
   "metadata": {},
   "source": [
    "Show the total number of results in the new allResultsButNotParkrun dataframe."
   ]
  },
  {
   "cell_type": "code",
   "execution_count": 28,
   "metadata": {},
   "outputs": [
    {
     "data": {
      "text/plain": [
       "1945"
      ]
     },
     "execution_count": 28,
     "metadata": {},
     "output_type": "execute_result"
    }
   ],
   "source": [
    "len(allResultsButNotParkrun)"
   ]
  },
  {
   "cell_type": "markdown",
   "metadata": {},
   "source": [
    "The top 40 in the allResultsButNotParkrun data set."
   ]
  },
  {
   "cell_type": "code",
   "execution_count": 29,
   "metadata": {},
   "outputs": [
    {
     "data": {
      "text/plain": [
       "Ian Richardson       73\n",
       "Karen Richardson     48\n",
       "Ben Chamberlain      34\n",
       "Gerald Meah          30\n",
       "Andy Irvine          27\n",
       "Mike Brentnall       26\n",
       "Glyn Smith           23\n",
       "Matt Slater          22\n",
       "Carmel McEniery      22\n",
       "Daniel Kitchie       21\n",
       "Rachael Leah         21\n",
       "Paul Veitch          21\n",
       "Sue Brentnall        21\n",
       "Kerion Hunt          20\n",
       "Jon Anderson         19\n",
       "Paul Jones           19\n",
       "Charlie Ritchie      19\n",
       "Diana Braverman      18\n",
       "Scott White          16\n",
       "Nicola McBride       16\n",
       "Suzy Tautz           16\n",
       "Andrew Shields       15\n",
       "John Ferguson        15\n",
       "Andrew Unsworth      15\n",
       "Charlie Wartnaby     15\n",
       "Lynn Roberts         14\n",
       "Chris Hurcomb        14\n",
       "Tim Long             14\n",
       "Maija Kozlova        14\n",
       "Isabelle Lemasson    14\n",
       "Rob Moir             13\n",
       "Jennifer Smith       13\n",
       "David Barber         12\n",
       "Chris Poole          12\n",
       "Istvan Jacso         12\n",
       "Alex Downie          12\n",
       "Claire Somerton      11\n",
       "Anne Schumann        11\n",
       "Martyn Brearley      11\n",
       "Simon Warburton      11\n",
       "Name: runner name, dtype: int64"
      ]
     },
     "execution_count": 29,
     "metadata": {},
     "output_type": "execute_result"
    }
   ],
   "source": [
    "allResultsButNotParkrun['runner name'].value_counts().head(40)"
   ]
  }
 ],
 "metadata": {
  "kernelspec": {
   "display_name": "Python 3",
   "language": "python",
   "name": "python3"
  },
  "language_info": {
   "codemirror_mode": {
    "name": "ipython",
    "version": 3
   },
   "file_extension": ".py",
   "mimetype": "text/x-python",
   "name": "python",
   "nbconvert_exporter": "python",
   "pygments_lexer": "ipython3",
   "version": "3.6.3"
  }
 },
 "nbformat": 4,
 "nbformat_minor": 1
}
